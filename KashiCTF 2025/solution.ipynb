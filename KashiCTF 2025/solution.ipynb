{
 "cells": [
  {
   "cell_type": "code",
   "execution_count": null,
   "metadata": {},
   "outputs": [],
   "source": [
    "from pwn import *\n",
    "import HashTools\n",
    "from tqdm import trange\n",
    "for i in trange(64) :\n",
    "    io = remote(\"127.0.0.1\", 1337)\n",
    "\n",
    "    io.recvuntil(b\"Example: \")\n",
    "    datas = io.recvline().decode()[:-1].split(\"|\")\n",
    "   \n",
    "    original_data = datas[0].encode()\n",
    "    sig = datas[1]\n",
    "    append_data = b\"&file=flag.txt\"\n",
    "    \n",
    "    magic = HashTools.new(\"sha1\")\n",
    "    new_data, new_sig = magic.extension(\n",
    "        secret_length=i, original_data=original_data,\n",
    "        append_data=append_data, signature=sig\n",
    "        )\n",
    "   \n",
    "        # print(str(new_data))\n",
    "    send_data = str(new_data)[2:][:-1] + '|' + str(new_sig)\n",
    "    user_data, received_hmac = send_data.rsplit(\"|\", 1)\n",
    "  \n",
    "    try :\n",
    "        user_data_bytes = bytes(user_data, \"utf-8\").decode(\"unicode_escape\").encode(\"latin-1\")\n",
    "      \n",
    "        io.sendline(send_data.encode())\n",
    "        print(io.recvall())\n",
    "        exit()\n",
    "    except :\n",
    "        pass\n",
    "    io.close()"
   ]
  },
  {
   "cell_type": "markdown",
   "metadata": {},
   "source": [
    "- Sử dụng công cụ https://kt.gy/tools.html#hash///0/\n",
    "- Đầu tiên khi ta kết nối tới server, server sẽ trả về \n",
    "\n",
    "![image.png](image1.png)\n"
   ]
  },
  {
   "cell_type": "markdown",
   "metadata": {},
   "source": [
    "- Ngó tới hàm handle_client() ta thấy giá trị được trả về là **original_data** và **original_hmac**"
   ]
  },
  {
   "cell_type": "code",
   "execution_count": null,
   "metadata": {},
   "outputs": [],
   "source": [
    "def handle_client(client, addr):\n",
    "    print(f\"[*] Connection from {addr}\")\n",
    "\n",
    "    try:\n",
    "        original_data = \"count=10&lat=37.351&user_id=1&long=-119.827&file=random.txt\"\n",
    "        original_hmac = generate_hmac(original_data)\n",
    "\n",
    "        client.sendall(f\"Retrieve file using format: data|hmac\\nExample: {original_data}|{original_hmac}\\n\".encode())\n",
    "\n",
    "        data = client.recv(1024)"
   ]
  },
  {
   "cell_type": "markdown",
   "metadata": {},
   "source": [
    "- Tiếp đó, để lấy được flag thì ta cần phải bypass được 2 điều kiện đó là **computed_signature = received_hmac** và **filename is True** tức là có sự xuất hiện của **flag.txt**"
   ]
  },
  {
   "cell_type": "code",
   "execution_count": null,
   "metadata": {},
   "outputs": [],
   "source": [
    "if computed_signature != received_hmac:\n",
    "    client.sendall(b\"Invalid HMAC. Try again.\\n\")\n",
    "else:\n",
    "    try:\n",
    "        params = dict(param.split(\"=\") for param in user_data.split(\"&\") if \"=\" in param)\n",
    "        filename = params.get(\"file\")\n",
    "        if filename:\n",
    "            with open(filename, \"r\") as f:\n",
    "                content = f.read()\n",
    "            client.sendall(f\"File Contents:\\n{content}\\n\".encode())\n",
    "        else:\n",
    "            client.sendall(b\"Invalid request format.\\n\")\n",
    "    except FileNotFoundError:\n",
    "        client.sendall(b\"File not found.\\n\")"
   ]
  },
  {
   "cell_type": "markdown",
   "metadata": {},
   "source": [
    " - Hiểu được phương pháp tấn công ta sẽ thêm các dữ liệu như trong ảnh dưới\n",
    "\n",
    "![image.png](image2.png)\n"
   ]
  },
  {
   "cell_type": "code",
   "execution_count": null,
   "metadata": {},
   "outputs": [
    {
     "name": "stdout",
     "output_type": "stream",
     "text": [
      "b'count=10&lat=37.351&user_id=1&long=-119.827&file=random.txt\\x80\\x00\\x00\\x00\\x00\\x00\\x00\\x00\\x00\\x00\\x00\\x00\\x00\\x00\\x00\\x00\\x00\\x00\\x00\\x00\\x00\\x00\\x00\\x00\\x00\\x00\\x00\\x00\\x00\\x00\\x00\\x00\\x00\\x00\\x00\\x00\\x00\\x00\\x00\\x00\\x00\\x00\\x00\\x00\\x00\\x00\\x00\\x00\\x00\\x00\\x00\\x00\\x00\\x00\\x00\\x00\\x00\\x00\\x00\\x02\\x18&file=flag.txt|29e0103e9ef9d3fc22f82a37461d2fb7ae5f4ab7'\n"
     ]
    }
   ],
   "source": [
    "new_data = \"636f756e743d3130266c61743d33372e33353126757365725f69643d31266c6f6e673d2d3131392e3832372666696c653d72616e646f6d2e747874800000000000000000000000000000000000000000000000000000000000000000000000000000000000000000000000000000000000000000000002182666696c653d666c61672e747874\"\n",
    "new_sig = b\"29e0103e9ef9d3fc22f82a37461d2fb7ae5f4ab7\"\n",
    "\n",
    "print(bytes.fromhex(new_data)+ b\"|\" + new_sig)"
   ]
  },
  {
   "cell_type": "markdown",
   "metadata": {},
   "source": [
    " - Sau khi gửi đoạn dữ liệu trên vào server đang kết nối ta thu được flag như ảnh\n",
    "\n",
    " ![image.png](image3.png)\n",
    "\n",
    " - **Chú ý:** Ở đây secret là 8 còn trong bài ta sẽ dùng vòng for hoặc while để brute force tìm ra độ dài secret"
   ]
  },
  {
   "cell_type": "code",
   "execution_count": null,
   "metadata": {},
   "outputs": [],
   "source": [
    "# Script tham khao\n",
    "from pwn import *\n",
    "import HashTools\n",
    "from tqdm import trange\n",
    "for i in trange(64) :\n",
    "    io = remote(\"127.0.0.1\", 1337)\n",
    "\n",
    "    io.recvuntil(b\"Example: \")\n",
    "    datas = io.recvline().decode()[:-1].split(\"|\")\n",
    "   \n",
    "    original_data = datas[0].encode()\n",
    "    sig = datas[1]\n",
    "    append_data = b\"&file=flag.txt\"\n",
    "    \n",
    "    magic = HashTools.new(\"sha1\")\n",
    "    new_data, new_sig = magic.extension(\n",
    "        secret_length=i, original_data=original_data,\n",
    "        append_data=append_data, signature=sig\n",
    "        )\n",
    "   \n",
    "    send_data = str(new_data)[2:][:-1] + '|' + str(new_sig)\n",
    "    user_data, received_hmac = send_data.rsplit(\"|\", 1)\n",
    "  \n",
    "    try :\n",
    "        user_data_bytes = bytes(user_data, \"utf-8\").decode(\"unicode_escape\").encode(\"latin-1\")\n",
    "      \n",
    "        io.sendline(send_data.encode())\n",
    "        print(io.recvall())\n",
    "        exit()\n",
    "    except :\n",
    "        pass\n",
    "    io.close()"
   ]
  }
 ],
 "metadata": {
  "kernelspec": {
   "display_name": "Python 3",
   "language": "python",
   "name": "python3"
  },
  "language_info": {
   "codemirror_mode": {
    "name": "ipython",
    "version": 3
   },
   "file_extension": ".py",
   "mimetype": "text/x-python",
   "name": "python",
   "nbconvert_exporter": "python",
   "pygments_lexer": "ipython3",
   "version": "3.10.12"
  }
 },
 "nbformat": 4,
 "nbformat_minor": 2
}
